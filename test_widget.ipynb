{
 "cells": [
  {
   "cell_type": "code",
   "execution_count": 2,
   "metadata": {
    "vscode": {
     "languageId": "plaintext"
    }
   },
   "outputs": [
    {
     "name": "stdout",
     "output_type": "stream",
     "text": [
      "[TestWidget] Initialization\n",
      "[TestWidget] Loading images:\n",
      "  Logo path: /Users/teun.huijben/Documents/code/github/inTRACKtive/python/src/intracktive/_static/CZ-Biohub-SF-RGB-60x60.png (exists: True)\n",
      "  Spark path: /Users/teun.huijben/Documents/code/github/inTRACKtive/python/src/intracktive/_static/spark1.png (exists: True)\n",
      "[TestWidget] Image data loaded:\n",
      "  Logo data: data:image/png;base64,iVBORw0KGgoAAAANSUhEUgAAADgA...\n",
      "  Spark data: data:image/png;base64,iVBORw0KGgoAAAANSUhEUgAAACAA...\n"
     ]
    },
    {
     "data": {
      "application/vnd.jupyter.widget-view+json": {
       "model_id": "7806e82bc4c949038cf49753eec57017",
       "version_major": 2,
       "version_minor": 1
      },
      "text/plain": [
       "TestWidget(logo_data='data:image/png;base64,iVBORw0KGgoAAAANSUhEUgAAADgAAAA8CAYAAAAzF3kIAAABgGlDQ1BzUkdCIElFQz…"
      ]
     },
     "execution_count": 2,
     "metadata": {},
     "output_type": "execute_result"
    }
   ],
   "source": [
    "from intracktive.test_widget import TestWidget\n",
    "w = TestWidget()\n",
    "w"
   ]
  },
  {
   "cell_type": "code",
   "execution_count": null,
   "metadata": {
    "vscode": {
     "languageId": "plaintext"
    }
   },
   "outputs": [],
   "source": []
  }
 ],
 "metadata": {
  "kernelspec": {
   "display_name": "Python 3 (ipykernel)",
   "language": "python",
   "name": "python3"
  },
  "language_info": {
   "codemirror_mode": {
    "name": "ipython",
    "version": 3
   },
   "file_extension": ".py",
   "mimetype": "text/x-python",
   "name": "python",
   "nbconvert_exporter": "python",
   "pygments_lexer": "ipython3",
   "version": "3.12.7"
  }
 },
 "nbformat": 4,
 "nbformat_minor": 4
}
