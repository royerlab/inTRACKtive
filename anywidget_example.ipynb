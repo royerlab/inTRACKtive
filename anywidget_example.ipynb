{
 "cells": [
  {
   "cell_type": "code",
   "execution_count": null,
   "id": "a1d10bbf-8ecc-499b-9a91-56012dd23066",
   "metadata": {},
   "outputs": [],
   "source": [
    "%env ANYWIDGET_HMR=1"
   ]
  },
  {
   "cell_type": "code",
   "execution_count": null,
   "id": "8dee98d4-c8b1-4ba9-8c10-8e326db0a138",
   "metadata": {},
   "outputs": [],
   "source": [
    "import anywidget\n",
    "import traitlets\n",
    "\n",
    "class Widget(anywidget.AnyWidget):\n",
    "    _esm = \"static/widget.js\"\n",
    "    _css = \"static/widget.css\"\n",
    "\n",
    "    count = traitlets.Int(0).tag(sync=True)\n",
    "\n",
    "Widget()"
   ]
  },
  {
   "cell_type": "code",
   "execution_count": null,
   "id": "4a466dda-8ce4-4065-ba2a-7997ad86c187",
   "metadata": {},
   "outputs": [],
   "source": []
  }
 ],
 "metadata": {
  "kernelspec": {
   "display_name": "Python 3 (ipykernel)",
   "language": "python",
   "name": "python3"
  },
  "language_info": {
   "codemirror_mode": {
    "name": "ipython",
    "version": 3
   },
   "file_extension": ".py",
   "mimetype": "text/x-python",
   "name": "python",
   "nbconvert_exporter": "python",
   "pygments_lexer": "ipython3",
   "version": "3.12.7"
  }
 },
 "nbformat": 4,
 "nbformat_minor": 5
}
