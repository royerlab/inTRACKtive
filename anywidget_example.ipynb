{
 "cells": [
  {
   "cell_type": "code",
   "execution_count": null,
   "id": "8dee98d4-c8b1-4ba9-8c10-8e326db0a138",
   "metadata": {},
   "outputs": [],
   "source": [
    "%env ANYWIDGET_HMR=1\n",
    "import anywidget\n",
    "import traitlets\n",
    "\n",
    "class Widget(anywidget.AnyWidget):\n",
    "    get_selected_tracks = traitlets.List().tag(sync=True)\n",
    "    dataset_url = traitlets.Unicode(\"https://public.czbiohub.org/royerlab/zoo/Zebrafish/tracks_zebrafish_bundle.zarr/\").tag(sync=True)\n",
    "    selected_cells = traitlets.List().tag(sync=True)\n",
    "\n",
    "    def select_tracks(self, cell_ids):\n",
    "        print('in class widget1, cell_ids = ',self.selected_cells)\n",
    "        self.selected_cells = cell_ids\n",
    "        print('in class widget2, cell_ids = ',self.selected_cells)\n",
    "\n",
    "    _esm = \"static/widget.js\"\n",
    "    _css = \"static/widget.css\""
   ]
  },
  {
   "cell_type": "code",
   "execution_count": null,
   "id": "1ebd6233-decd-434f-87d7-7648f962e5dc",
   "metadata": {},
   "outputs": [],
   "source": [
    "#default widget has zebrafish\n",
    "w = Widget() \n",
    "w"
   ]
  },
  {
   "cell_type": "markdown",
   "id": "59317ec0",
   "metadata": {},
   "source": [
    "# get/set data"
   ]
  },
  {
   "cell_type": "code",
   "execution_count": null,
   "id": "555439b3-5509-4743-bee3-2400712d15f9",
   "metadata": {},
   "outputs": [],
   "source": [
    "w = Widget(dataset_url = \"https://public.czbiohub.org/royerlab/zoo/Ascidian/tracks_ascidian_attributes_bundle.zarr/\")\n",
    "w"
   ]
  },
  {
   "cell_type": "markdown",
   "id": "12f4f980-7c9f-4247-8989-be73971a9f26",
   "metadata": {},
   "source": [
    "Get track_ids of selected cells"
   ]
  },
  {
   "cell_type": "code",
   "execution_count": null,
   "id": "b187affc-bc62-46dd-a531-4c84d0aeae2a",
   "metadata": {},
   "outputs": [],
   "source": [
    "print('tracks:',w.get_selected_tracks)\n",
    "print(len(w.get_selected_tracks),'tracks selected')"
   ]
  },
  {
   "cell_type": "markdown",
   "id": "08962eca-f237-4597-93b5-7bd6b9ca1d7b",
   "metadata": {},
   "source": [
    "Select tracks progammatically"
   ]
  },
  {
   "cell_type": "code",
   "execution_count": null,
   "id": "72729521-3c62-42dc-80e7-a4743c24ed31",
   "metadata": {},
   "outputs": [],
   "source": [
    "w.select_tracks([39])"
   ]
  },
  {
   "cell_type": "code",
   "execution_count": null,
   "id": "b971a2d0-4d83-46bb-afab-6bac63d8765f",
   "metadata": {},
   "outputs": [],
   "source": [
    "w.select_tracks([40,1,39])"
   ]
  },
  {
   "cell_type": "code",
   "execution_count": null,
   "id": "03099cc5-7e0e-4466-97bc-249499fc01d9",
   "metadata": {},
   "outputs": [],
   "source": []
  }
 ],
 "metadata": {
  "kernelspec": {
   "display_name": "intracktive",
   "language": "python",
   "name": "python3"
  },
  "language_info": {
   "codemirror_mode": {
    "name": "ipython",
    "version": 3
   },
   "file_extension": ".py",
   "mimetype": "text/x-python",
   "name": "python",
   "nbconvert_exporter": "python",
   "pygments_lexer": "ipython3",
   "version": "3.12.7"
  }
 },
 "nbformat": 4,
 "nbformat_minor": 5
}
