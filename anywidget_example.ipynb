{
 "cells": [
  {
   "cell_type": "code",
   "execution_count": 4,
   "id": "8dee98d4-c8b1-4ba9-8c10-8e326db0a138",
   "metadata": {},
   "outputs": [
    {
     "name": "stdout",
     "output_type": "stream",
     "text": [
      "env: ANYWIDGET_HMR=1\n"
     ]
    }
   ],
   "source": [
    "%env ANYWIDGET_HMR=1\n",
    "import anywidget\n",
    "import traitlets\n",
    "\n",
    "class Widget(anywidget.AnyWidget):\n",
    "    dataset_url = traitlets.Unicode(\"https://public.czbiohub.org/royerlab/zoo/Zebrafish/tracks_zebrafish_bundle.zarr/\").tag(sync=True)\n",
    "   \n",
    "    _esm = \"static/widget.js\"\n",
    "    _css = \"static/widget.css\""
   ]
  },
  {
   "cell_type": "code",
   "execution_count": 5,
   "id": "1ebd6233-decd-434f-87d7-7648f962e5dc",
   "metadata": {},
   "outputs": [
    {
     "data": {
      "application/vnd.jupyter.widget-view+json": {
       "model_id": "aba99c548e5f46f4996b0f1ba67fa0e4",
       "version_major": 2,
       "version_minor": 1
      },
      "text/plain": [
       "Widget()"
      ]
     },
     "execution_count": 5,
     "metadata": {},
     "output_type": "execute_result"
    }
   ],
   "source": [
    "#default widget has zebrafish\n",
    "Widget() "
   ]
  },
  {
   "cell_type": "code",
   "execution_count": 7,
   "id": "72379411-e5ae-4b4f-8534-289705db5c8c",
   "metadata": {},
   "outputs": [
    {
     "data": {
      "application/vnd.jupyter.widget-view+json": {
       "model_id": "e121589aec9e4de49c2105887882a0bc",
       "version_major": 2,
       "version_minor": 1
      },
      "text/plain": [
       "Widget(dataset_url='https://public.czbiohub.org/royerlab/zoo/Drosophila/tracks_drosophila_attributes_bundle.za…"
      ]
     },
     "execution_count": 7,
     "metadata": {},
     "output_type": "execute_result"
    }
   ],
   "source": [
    "#providing url, allows one to open drosophila\n",
    "w_dro = Widget(dataset_url = \"https://public.czbiohub.org/royerlab/zoo/Drosophila/tracks_drosophila_attributes_bundle.zarr/\")\n",
    "w_dro"
   ]
  },
  {
   "cell_type": "code",
   "execution_count": 8,
   "id": "8a42997e-5ac3-4ffc-90f1-38cdb931ab94",
   "metadata": {},
   "outputs": [
    {
     "data": {
      "application/vnd.jupyter.widget-view+json": {
       "model_id": "cf9acf4d77e94577b0744fcdee990bde",
       "version_major": 2,
       "version_minor": 1
      },
      "text/plain": [
       "Widget()"
      ]
     },
     "execution_count": 8,
     "metadata": {},
     "output_type": "execute_result"
    }
   ],
   "source": [
    "#or back to zebrafish\n",
    "Widget(dataset_url=\"https://public.czbiohub.org/royerlab/zoo/Zebrafish/tracks_zebrafish_bundle.zarr/\")"
   ]
  },
  {
   "cell_type": "code",
   "execution_count": 9,
   "id": "d010d9b6-f87e-436d-aa5b-f57e6324fed0",
   "metadata": {},
   "outputs": [
    {
     "data": {
      "application/vnd.jupyter.widget-view+json": {
       "model_id": "e121589aec9e4de49c2105887882a0bc",
       "version_major": 2,
       "version_minor": 1
      },
      "text/plain": [
       "Widget(dataset_url='https://public.czbiohub.org/royerlab/zoo/Drosophila/tracks_drosophila_attributes_bundle.za…"
      ]
     },
     "execution_count": 9,
     "metadata": {},
     "output_type": "execute_result"
    }
   ],
   "source": [
    "w_dro"
   ]
  },
  {
   "cell_type": "code",
   "execution_count": null,
   "id": "f4e86faf-781f-48ab-b28a-f3e5eff502af",
   "metadata": {},
   "outputs": [],
   "source": []
  }
 ],
 "metadata": {
  "kernelspec": {
   "display_name": "Python 3 (ipykernel)",
   "language": "python",
   "name": "python3"
  },
  "language_info": {
   "codemirror_mode": {
    "name": "ipython",
    "version": 3
   },
   "file_extension": ".py",
   "mimetype": "text/x-python",
   "name": "python",
   "nbconvert_exporter": "python",
   "pygments_lexer": "ipython3",
   "version": "3.12.7"
  }
 },
 "nbformat": 4,
 "nbformat_minor": 5
}
