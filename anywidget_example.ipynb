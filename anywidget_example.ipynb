{
 "cells": [
  {
   "cell_type": "code",
   "execution_count": 1,
   "id": "8dee98d4-c8b1-4ba9-8c10-8e326db0a138",
   "metadata": {},
   "outputs": [
    {
     "name": "stdout",
     "output_type": "stream",
     "text": [
      "env: ANYWIDGET_HMR=1\n"
     ]
    }
   ],
   "source": [
    "%env ANYWIDGET_HMR=1\n",
    "import anywidget\n",
    "import traitlets\n",
    "\n",
    "class Widget(anywidget.AnyWidget):\n",
    "    get_selected_tracks = traitlets.List().tag(sync=True)\n",
    "    dataset_url = traitlets.Unicode(\"https://public.czbiohub.org/royerlab/zoo/Zebrafish/tracks_zebrafish_bundle.zarr/\").tag(sync=True)\n",
    "    selected_cells = traitlets.List().tag(sync=True)\n",
    "\n",
    "    def select_cells(self, cell_ids):\n",
    "        print('in class widget1, cell_ids = ',cell_ids)\n",
    "        self.selected_cells = cell_ids\n",
    "        print('in class widget2, cell_ids = ',self.selected_cells)\n",
    "\n",
    "    _esm = \"static/widget.js\"\n",
    "    _css = \"static/widget.css\""
   ]
  },
  {
   "cell_type": "code",
   "execution_count": null,
   "id": "1ebd6233-decd-434f-87d7-7648f962e5dc",
   "metadata": {},
   "outputs": [],
   "source": [
    "#default widget has zebrafish\n",
    "Widget() "
   ]
  },
  {
   "cell_type": "code",
   "execution_count": null,
   "id": "72379411-e5ae-4b4f-8534-289705db5c8c",
   "metadata": {},
   "outputs": [],
   "source": [
    "#providing url, allows one to open drosophila\n",
    "w_dro = Widget(dataset_url = \"https://public.czbiohub.org/royerlab/zoo/Drosophila/tracks_drosophila_attributes_bundle.zarr/\")\n",
    "w_dro"
   ]
  },
  {
   "cell_type": "code",
   "execution_count": null,
   "id": "8a42997e-5ac3-4ffc-90f1-38cdb931ab94",
   "metadata": {},
   "outputs": [],
   "source": [
    "#or back to zebrafish\n",
    "Widget(dataset_url=\"https://public.czbiohub.org/royerlab/zoo/Zebrafish/tracks_zebrafish_bundle.zarr/\")"
   ]
  },
  {
   "cell_type": "markdown",
   "id": "59317ec0",
   "metadata": {},
   "source": [
    "# get data"
   ]
  },
  {
   "cell_type": "code",
   "execution_count": 2,
   "id": "555439b3-5509-4743-bee3-2400712d15f9",
   "metadata": {},
   "outputs": [
    {
     "data": {
      "application/vnd.jupyter.widget-view+json": {
       "model_id": "c08549a493154e508dcfe51d6b14e846",
       "version_major": 2,
       "version_minor": 1
      },
      "text/plain": [
       "Widget(dataset_url='https://public.czbiohub.org/royerlab/zoo/Ascidian/tracks_ascidian_attributes_bundle.zarr/'…"
      ]
     },
     "execution_count": 2,
     "metadata": {},
     "output_type": "execute_result"
    }
   ],
   "source": [
    "w = Widget(dataset_url = \"https://public.czbiohub.org/royerlab/zoo/Ascidian/tracks_ascidian_attributes_bundle.zarr/\")\n",
    "w"
   ]
  },
  {
   "cell_type": "code",
   "execution_count": null,
   "id": "b187affc-bc62-46dd-a531-4c84d0aeae2a",
   "metadata": {},
   "outputs": [],
   "source": [
    "w.get_selected_tracks"
   ]
  },
  {
   "cell_type": "code",
   "execution_count": null,
   "id": "215898e9-d5ec-4c49-84a7-b93d4c2e1f33",
   "metadata": {},
   "outputs": [],
   "source": [
    "len(w.get_selected_tracks)"
   ]
  },
  {
   "cell_type": "code",
   "execution_count": 3,
   "id": "72729521-3c62-42dc-80e7-a4743c24ed31",
   "metadata": {},
   "outputs": [
    {
     "name": "stdout",
     "output_type": "stream",
     "text": [
      "in class widget1, cell_ids =  [37]\n",
      "in class widget2, cell_ids =  [37]\n"
     ]
    }
   ],
   "source": [
    "w.select_cells([37])"
   ]
  },
  {
   "cell_type": "code",
   "execution_count": null,
   "id": "7d0cf86b-8b7b-40aa-8a21-2c721ca3a112",
   "metadata": {},
   "outputs": [],
   "source": []
  }
 ],
 "metadata": {
  "kernelspec": {
   "display_name": "Python 3 (ipykernel)",
   "language": "python",
   "name": "python3"
  },
  "language_info": {
   "codemirror_mode": {
    "name": "ipython",
    "version": 3
   },
   "file_extension": ".py",
   "mimetype": "text/x-python",
   "name": "python",
   "nbconvert_exporter": "python",
   "pygments_lexer": "ipython3",
   "version": "3.12.7"
  }
 },
 "nbformat": 4,
 "nbformat_minor": 5
}
