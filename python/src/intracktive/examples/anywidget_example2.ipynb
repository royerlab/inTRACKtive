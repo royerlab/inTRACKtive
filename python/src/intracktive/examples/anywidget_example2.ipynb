{
 "cells": [
  {
   "cell_type": "markdown",
   "id": "217c2911-87bc-4e7c-8198-1a8d252904e9",
   "metadata": {},
   "source": [
    "# Dependencies"
   ]
  },
  {
   "cell_type": "code",
   "execution_count": 1,
   "id": "f06c4f19-d756-44f1-8559-9f5e79f68081",
   "metadata": {},
   "outputs": [],
   "source": [
    "import traitlets\n",
    "import anywidget\n",
    "import pandas as pd\n",
    "\n",
    "from pathlib import Path\n",
    "from IPython.display import clear_output\n",
    "from intracktive.convert import dataframe_to_browser\n",
    "\n",
    "\n",
    "class Widget(anywidget.AnyWidget):\n",
    "    selected_points = traitlets.List().tag(sync=True)\n",
    "    dataset_url = traitlets.Unicode(\n",
    "        \"https://public.czbiohub.org/royerlab/zoo/Zebrafish/tracks_zebrafish_bundle.zarr/\"\n",
    "    ).tag(sync=True)\n",
    "\n",
    "    _esm = \"static/widget.js\"\n",
    "    _css = \"static/widget.css\""
   ]
  },
  {
   "cell_type": "markdown",
   "id": "8f416127-f17e-4816-b2ce-03317fee1605",
   "metadata": {},
   "source": [
    "# Define data"
   ]
  },
  {
   "cell_type": "code",
   "execution_count": null,
   "id": "c19cf75c-5bb5-4c29-ab83-6c29d0d6b4c7",
   "metadata": {},
   "outputs": [],
   "source": [
    "df = pd.read_csv(\"https://public.czbiohub.org/royerlab/zoo/C_elegans/tracks.csv\")\n",
    "df"
   ]
  },
  {
   "cell_type": "markdown",
   "id": "0d23d870-b89b-4b3a-a228-3c52646a6469",
   "metadata": {},
   "source": [
    "# Open inTRACKtive within notebook"
   ]
  },
  {
   "cell_type": "code",
   "execution_count": null,
   "id": "127be4fb-3e81-4583-aa1a-0a5d205129fb",
   "metadata": {},
   "outputs": [],
   "source": [
    "zarr_data_url = dataframe_to_browser(df, Path(), flag_open_browser=False)\n",
    "clear_output()\n",
    "\n",
    "wid = Widget(dataset_url=zarr_data_url)\n",
    "wid"
   ]
  },
  {
   "cell_type": "code",
   "execution_count": null,
   "id": "0d6b86bf-cd77-4f8d-8fd2-ce6040f00f62",
   "metadata": {},
   "outputs": [],
   "source": [
    "wid.selected_points"
   ]
  },
  {
   "cell_type": "code",
   "execution_count": null,
   "id": "ee233f4a-74bf-400d-aaba-4036d2c73066",
   "metadata": {},
   "outputs": [],
   "source": []
  },
  {
   "cell_type": "code",
   "execution_count": null,
   "id": "9db1b2a0-f304-429a-9e5e-db7685912e10",
   "metadata": {},
   "outputs": [],
   "source": []
  }
 ],
 "metadata": {
  "kernelspec": {
   "display_name": "Python 3 (ipykernel)",
   "language": "python",
   "name": "python3"
  },
  "language_info": {
   "codemirror_mode": {
    "name": "ipython",
    "version": 3
   },
   "file_extension": ".py",
   "mimetype": "text/x-python",
   "name": "python",
   "nbconvert_exporter": "python",
   "pygments_lexer": "ipython3",
   "version": "3.12.7"
  }
 },
 "nbformat": 4,
 "nbformat_minor": 5
}
