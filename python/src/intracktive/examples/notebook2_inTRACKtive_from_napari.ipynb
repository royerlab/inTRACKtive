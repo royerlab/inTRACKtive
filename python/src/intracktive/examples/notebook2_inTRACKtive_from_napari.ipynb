{
 "cells": [
  {
   "cell_type": "markdown",
   "metadata": {},
   "source": [
    "# This notebooks opens inTRACKtive from napari using a widget\n",
    "requirement: run this notebook in a conda environment that has napari installed (`pip install napari[all]`)"
   ]
  },
  {
   "cell_type": "markdown",
   "metadata": {},
   "source": [
    "Dependencies"
   ]
  },
  {
   "cell_type": "code",
   "execution_count": 1,
   "metadata": {},
   "outputs": [],
   "source": [
    "import napari\n",
    "import pandas as pd\n",
    "from intracktive.widget import IntracktiveWidget"
   ]
  },
  {
   "cell_type": "markdown",
   "metadata": {},
   "source": [
    "Load tracks data for C. elegans (or replace by your own data)"
   ]
  },
  {
   "cell_type": "code",
   "execution_count": null,
   "metadata": {},
   "outputs": [],
   "source": [
    "df = pd.read_csv(\"https://public.czbiohub.org/royerlab/zoo/C_elegans/tracks.csv\")\n",
    "df"
   ]
  },
  {
   "cell_type": "markdown",
   "metadata": {},
   "source": [
    "Make the graph data (needed in napari) from the track_id and parent_track_id"
   ]
  },
  {
   "cell_type": "code",
   "execution_count": 3,
   "metadata": {},
   "outputs": [],
   "source": [
    "filtered_df = df[df[\"parent_track_id\"] != -1]\n",
    "graph = dict(zip(filtered_df[\"track_id\"], filtered_df[\"parent_track_id\"]))"
   ]
  },
  {
   "cell_type": "markdown",
   "metadata": {},
   "source": [
    "Open napari with intracktive widget"
   ]
  },
  {
   "cell_type": "code",
   "execution_count": null,
   "metadata": {},
   "outputs": [],
   "source": [
    "viewer = napari.Viewer()\n",
    "widget = IntracktiveWidget()\n",
    "viewer.window.add_dock_widget(widget)\n",
    "viewer.add_tracks(df[[\"track_id\", \"t\", \"z\", \"y\", \"x\"]], graph=graph, name=\"Tracks\")"
   ]
  }
 ],
 "metadata": {
  "kernelspec": {
   "display_name": "intracktive",
   "language": "python",
   "name": "python3"
  },
  "language_info": {
   "codemirror_mode": {
    "name": "ipython",
    "version": 3
   },
   "file_extension": ".py",
   "mimetype": "text/x-python",
   "name": "python",
   "nbconvert_exporter": "python",
   "pygments_lexer": "ipython3",
   "version": "3.12.7"
  }
 },
 "nbformat": 4,
 "nbformat_minor": 2
}
