{
 "cells": [
  {
   "cell_type": "markdown",
   "id": "131b8b32-70d7-4800-ace6-62fd5542ca7f",
   "metadata": {},
   "source": [
    "# Open inTRACKtive WITHIN a Jupyter notebook"
   ]
  },
  {
   "cell_type": "markdown",
   "id": "217c2911-87bc-4e7c-8198-1a8d252904e9",
   "metadata": {},
   "source": [
    "### Dependencies"
   ]
  },
  {
   "cell_type": "code",
   "execution_count": 1,
   "id": "f06c4f19-d756-44f1-8559-9f5e79f68081",
   "metadata": {},
   "outputs": [
    {
     "name": "stdout",
     "output_type": "stream",
     "text": [
      "env: ANYWIDGET_HMR=1\n"
     ]
    },
    {
     "name": "stderr",
     "output_type": "stream",
     "text": [
      "INFO:watchfiles.main:1 change detected\n",
      "INFO:watchfiles.main:1 change detected\n",
      "INFO:watchfiles.main:1 change detected\n",
      "INFO:watchfiles.main:1 change detected\n",
      "INFO:watchfiles.main:1 change detected\n"
     ]
    }
   ],
   "source": [
    "%env ANYWIDGET_HMR=1\n",
    "import pandas as pd\n",
    "\n",
    "from pathlib import Path\n",
    "from IPython.display import clear_output\n",
    "from intracktive.notebook_widget import Widget\n",
    "from intracktive.convert import dataframe_to_browser, make_track_ids_consecutive"
   ]
  },
  {
   "cell_type": "markdown",
   "id": "ee875365-c079-42ea-8c6e-99fd4f5f1b77",
   "metadata": {},
   "source": [
    "### Load data"
   ]
  },
  {
   "cell_type": "code",
   "execution_count": 2,
   "id": "8ae24716-9fe1-4ebb-bd8f-36f6f525d9ed",
   "metadata": {},
   "outputs": [
    {
     "data": {
      "text/html": [
       "<div>\n",
       "<style scoped>\n",
       "    .dataframe tbody tr th:only-of-type {\n",
       "        vertical-align: middle;\n",
       "    }\n",
       "\n",
       "    .dataframe tbody tr th {\n",
       "        vertical-align: top;\n",
       "    }\n",
       "\n",
       "    .dataframe thead th {\n",
       "        text-align: right;\n",
       "    }\n",
       "</style>\n",
       "<table border=\"1\" class=\"dataframe\">\n",
       "  <thead>\n",
       "    <tr style=\"text-align: right;\">\n",
       "      <th></th>\n",
       "      <th>track_id</th>\n",
       "      <th>t</th>\n",
       "      <th>y</th>\n",
       "      <th>x</th>\n",
       "      <th>parent_track_id</th>\n",
       "      <th>CellColor</th>\n",
       "    </tr>\n",
       "  </thead>\n",
       "  <tbody>\n",
       "    <tr>\n",
       "      <th>0</th>\n",
       "      <td>1</td>\n",
       "      <td>0</td>\n",
       "      <td>8.0</td>\n",
       "      <td>473.0</td>\n",
       "      <td>-1</td>\n",
       "      <td>8655811</td>\n",
       "    </tr>\n",
       "    <tr>\n",
       "      <th>1</th>\n",
       "      <td>1</td>\n",
       "      <td>1</td>\n",
       "      <td>9.0</td>\n",
       "      <td>470.0</td>\n",
       "      <td>-1</td>\n",
       "      <td>7347372</td>\n",
       "    </tr>\n",
       "    <tr>\n",
       "      <th>2</th>\n",
       "      <td>1</td>\n",
       "      <td>2</td>\n",
       "      <td>9.0</td>\n",
       "      <td>469.0</td>\n",
       "      <td>-1</td>\n",
       "      <td>7018912</td>\n",
       "    </tr>\n",
       "    <tr>\n",
       "      <th>3</th>\n",
       "      <td>1</td>\n",
       "      <td>3</td>\n",
       "      <td>9.0</td>\n",
       "      <td>469.0</td>\n",
       "      <td>-1</td>\n",
       "      <td>7542682</td>\n",
       "    </tr>\n",
       "    <tr>\n",
       "      <th>4</th>\n",
       "      <td>1</td>\n",
       "      <td>4</td>\n",
       "      <td>9.0</td>\n",
       "      <td>468.0</td>\n",
       "      <td>-1</td>\n",
       "      <td>7738780</td>\n",
       "    </tr>\n",
       "    <tr>\n",
       "      <th>...</th>\n",
       "      <td>...</td>\n",
       "      <td>...</td>\n",
       "      <td>...</td>\n",
       "      <td>...</td>\n",
       "      <td>...</td>\n",
       "      <td>...</td>\n",
       "    </tr>\n",
       "    <tr>\n",
       "      <th>96252</th>\n",
       "      <td>1390</td>\n",
       "      <td>297</td>\n",
       "      <td>1435.0</td>\n",
       "      <td>18.0</td>\n",
       "      <td>-1</td>\n",
       "      <td>3038725</td>\n",
       "    </tr>\n",
       "    <tr>\n",
       "      <th>96253</th>\n",
       "      <td>1390</td>\n",
       "      <td>298</td>\n",
       "      <td>1435.0</td>\n",
       "      <td>24.0</td>\n",
       "      <td>-1</td>\n",
       "      <td>939273</td>\n",
       "    </tr>\n",
       "    <tr>\n",
       "      <th>96254</th>\n",
       "      <td>1390</td>\n",
       "      <td>299</td>\n",
       "      <td>1432.0</td>\n",
       "      <td>15.0</td>\n",
       "      <td>-1</td>\n",
       "      <td>3092751</td>\n",
       "    </tr>\n",
       "    <tr>\n",
       "      <th>96255</th>\n",
       "      <td>1391</td>\n",
       "      <td>298</td>\n",
       "      <td>1432.0</td>\n",
       "      <td>1897.0</td>\n",
       "      <td>-1</td>\n",
       "      <td>65638</td>\n",
       "    </tr>\n",
       "    <tr>\n",
       "      <th>96256</th>\n",
       "      <td>1391</td>\n",
       "      <td>299</td>\n",
       "      <td>1432.0</td>\n",
       "      <td>1895.0</td>\n",
       "      <td>-1</td>\n",
       "      <td>107</td>\n",
       "    </tr>\n",
       "  </tbody>\n",
       "</table>\n",
       "<p>96257 rows × 6 columns</p>\n",
       "</div>"
      ],
      "text/plain": [
       "       track_id    t       y       x  parent_track_id  CellColor\n",
       "0             1    0     8.0   473.0               -1    8655811\n",
       "1             1    1     9.0   470.0               -1    7347372\n",
       "2             1    2     9.0   469.0               -1    7018912\n",
       "3             1    3     9.0   469.0               -1    7542682\n",
       "4             1    4     9.0   468.0               -1    7738780\n",
       "...         ...  ...     ...     ...              ...        ...\n",
       "96252      1390  297  1435.0    18.0               -1    3038725\n",
       "96253      1390  298  1435.0    24.0               -1     939273\n",
       "96254      1390  299  1432.0    15.0               -1    3092751\n",
       "96255      1391  298  1432.0  1897.0               -1      65638\n",
       "96256      1391  299  1432.0  1895.0               -1        107\n",
       "\n",
       "[96257 rows x 6 columns]"
      ]
     },
     "execution_count": 2,
     "metadata": {},
     "output_type": "execute_result"
    }
   ],
   "source": [
    "# df = pd.read_csv(\"https://public.czbiohub.org/royerlab/zoo/C_elegans/tracks.csv\")\n",
    "df = pd.read_csv(\n",
    "    \"https://public.czbiohub.org/royerlab/ultrack/inTRACKtive/2D_multicolor_tracks_with_hex.csv\"\n",
    ")\n",
    "df = make_track_ids_consecutive(df)\n",
    "df"
   ]
  },
  {
   "cell_type": "markdown",
   "id": "0d23d870-b89b-4b3a-a228-3c52646a6469",
   "metadata": {},
   "source": [
    "### Open inTRACKtive widget"
   ]
  },
  {
   "cell_type": "code",
   "execution_count": 3,
   "id": "127be4fb-3e81-4583-aa1a-0a5d205129fb",
   "metadata": {},
   "outputs": [
    {
     "name": "stderr",
     "output_type": "stream",
     "text": [
      "INFO:root:Serving /var/folders/0x/59zp_92x3dsgz9ms3l24tbsm0000gp/T/tmpoo8f21vr at http://127.0.0.1:8000\n",
      "INFO:root:Server running...\n"
     ]
    },
    {
     "data": {
      "application/vnd.jupyter.widget-view+json": {
       "model_id": "e34518e472e34e09b05e21289896b7b0",
       "version_major": 2,
       "version_minor": 1
      },
      "text/plain": [
       "Widget(dataset_url='http://127.0.0.1:8000/zarr_bundle.zarr/')"
      ]
     },
     "execution_count": 3,
     "metadata": {},
     "output_type": "execute_result"
    }
   ],
   "source": [
    "zarr_data_url = dataframe_to_browser(df, Path(), flag_open_browser=False)\n",
    "clear_output()\n",
    "\n",
    "widget = Widget(dataset_url=zarr_data_url)\n",
    "widget"
   ]
  },
  {
   "cell_type": "code",
   "execution_count": 4,
   "id": "0d6b86bf-cd77-4f8d-8fd2-ce6040f00f62",
   "metadata": {
    "scrolled": true
   },
   "outputs": [
    {
     "data": {
      "text/plain": [
       "[]"
      ]
     },
     "execution_count": 4,
     "metadata": {},
     "output_type": "execute_result"
    }
   ],
   "source": [
    "widget.get_selected_tracks"
   ]
  },
  {
   "cell_type": "code",
   "execution_count": 5,
   "id": "9db1b2a0-f304-429a-9e5e-db7685912e10",
   "metadata": {},
   "outputs": [],
   "source": [
    "widget.select_tracks([0])"
   ]
  },
  {
   "cell_type": "code",
   "execution_count": 6,
   "id": "8a3c41ff-1add-4e1a-aace-080b0416c33b",
   "metadata": {},
   "outputs": [],
   "source": [
    "def find_lineage_with_most_divisions():\n",
    "    pass\n",
    "\n",
    "\n",
    "def find_longest_track():\n",
    "    pass"
   ]
  },
  {
   "cell_type": "code",
   "execution_count": null,
   "id": "355df8a9-cd0b-429f-a2ed-c0639a078271",
   "metadata": {},
   "outputs": [],
   "source": []
  }
 ],
 "metadata": {
  "kernelspec": {
   "display_name": "Python 3 (ipykernel)",
   "language": "python",
   "name": "python3"
  },
  "language_info": {
   "codemirror_mode": {
    "name": "ipython",
    "version": 3
   },
   "file_extension": ".py",
   "mimetype": "text/x-python",
   "name": "python",
   "nbconvert_exporter": "python",
   "pygments_lexer": "ipython3",
   "version": "3.12.7"
  }
 },
 "nbformat": 4,
 "nbformat_minor": 5
}
