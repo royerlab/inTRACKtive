{
 "cells": [
  {
   "cell_type": "markdown",
   "id": "131b8b32-70d7-4800-ace6-62fd5542ca7f",
   "metadata": {},
   "source": [
    "# Open inTRACKtive WITHIN a Jupyter notebook"
   ]
  },
  {
   "cell_type": "markdown",
   "id": "217c2911-87bc-4e7c-8198-1a8d252904e9",
   "metadata": {},
   "source": [
    "### Dependencies"
   ]
  },
  {
   "cell_type": "code",
   "execution_count": null,
   "id": "f06c4f19-d756-44f1-8559-9f5e79f68081",
   "metadata": {},
   "outputs": [],
   "source": [
    "%env ANYWIDGET_HMR=1\n",
    "import pandas as pd\n",
    "\n",
    "from pathlib import Path\n",
    "from IPython.display import clear_output\n",
    "from intracktive.notebook_widget import Widget\n",
    "from intracktive.convert import dataframe_to_browser, make_track_ids_consecutive"
   ]
  },
  {
   "cell_type": "markdown",
   "id": "ee875365-c079-42ea-8c6e-99fd4f5f1b77",
   "metadata": {},
   "source": [
    "### Load data"
   ]
  },
  {
   "cell_type": "code",
   "execution_count": null,
   "id": "8ae24716-9fe1-4ebb-bd8f-36f6f525d9ed",
   "metadata": {},
   "outputs": [],
   "source": [
    "# df = pd.read_csv(\"https://public.czbiohub.org/royerlab/zoo/C_elegans/tracks.csv\")\n",
    "df = pd.read_csv(\n",
    "    \"https://public.czbiohub.org/royerlab/ultrack/inTRACKtive/2D_multicolor_tracks_with_hex.csv\"\n",
    ")\n",
    "df = make_track_ids_consecutive(df)\n",
    "df"
   ]
  },
  {
   "cell_type": "markdown",
   "id": "0d23d870-b89b-4b3a-a228-3c52646a6469",
   "metadata": {},
   "source": [
    "### Open inTRACKtive widget"
   ]
  },
  {
   "cell_type": "code",
   "execution_count": null,
   "id": "127be4fb-3e81-4583-aa1a-0a5d205129fb",
   "metadata": {},
   "outputs": [],
   "source": [
    "zarr_data_url = dataframe_to_browser(df, Path(), flag_open_browser=False)\n",
    "clear_output()\n",
    "\n",
    "widget = Widget(dataset_url=zarr_data_url)\n",
    "widget"
   ]
  },
  {
   "cell_type": "markdown",
   "id": "eac3e9a0-2a6d-461b-b63f-9e9b95db48e1",
   "metadata": {},
   "source": [
    "# Get selected tracks"
   ]
  },
  {
   "cell_type": "code",
   "execution_count": null,
   "id": "0d6b86bf-cd77-4f8d-8fd2-ce6040f00f62",
   "metadata": {},
   "outputs": [],
   "source": [
    "widget.get_selected_tracks"
   ]
  },
  {
   "cell_type": "markdown",
   "id": "8bf24231-afcc-4961-8660-be2515d6cb92",
   "metadata": {},
   "source": [
    "# Selected specific tracks"
   ]
  },
  {
   "cell_type": "code",
   "execution_count": null,
   "id": "9db1b2a0-f304-429a-9e5e-db7685912e10",
   "metadata": {},
   "outputs": [],
   "source": [
    "widget.select_tracks([])"
   ]
  },
  {
   "cell_type": "markdown",
   "id": "1de537c3-3cf7-4066-a73c-5466b8288887",
   "metadata": {},
   "source": [
    "# Find longest tracks and select them"
   ]
  },
  {
   "cell_type": "code",
   "execution_count": null,
   "id": "8a3c41ff-1add-4e1a-aace-080b0416c33b",
   "metadata": {},
   "outputs": [],
   "source": [
    "def find_k_longest_tracks(df, k):\n",
    "    def calculate_start_end_distance(group):\n",
    "        group = group.sort_values(\"t\")\n",
    "        start_point = group.iloc[0]\n",
    "        end_point = group.iloc[-1]\n",
    "        dx = end_point[\"x\"] - start_point[\"x\"]\n",
    "        dy = end_point[\"y\"] - start_point[\"y\"]\n",
    "        return (dx**2 + dy**2) ** 0.5\n",
    "\n",
    "    # Calculate start-to-end distance for each track\n",
    "    track_distances = df.groupby(\"track_id\")[[\"x\", \"y\", \"t\"]].apply(\n",
    "        calculate_start_end_distance\n",
    "    )\n",
    "    return track_distances.nlargest(k).index.tolist()\n",
    "\n",
    "\n",
    "longest_tracks = find_k_longest_tracks(df, 5)\n",
    "widget.select_tracks(longest_tracks)"
   ]
  },
  {
   "cell_type": "code",
   "execution_count": null,
   "id": "155911ac-5c65-436e-808e-3db297e88b73",
   "metadata": {
    "jupyter": {
     "source_hidden": true
    }
   },
   "outputs": [],
   "source": [
    "def find_longest_track(df):\n",
    "    track_durations = df.groupby(\"track_id\")[\"t\"].agg(lambda x: x.max() - x.min())\n",
    "    return track_durations.idxmax()\n",
    "\n",
    "\n",
    "def find_track_with_most_ancestors(parent_dict):\n",
    "    def count_ancestors(track_id, visited=None):\n",
    "        if visited is None:\n",
    "            visited = set()\n",
    "\n",
    "        # If we've seen this track before, we have a cycle\n",
    "        if track_id in visited:\n",
    "            return 0\n",
    "\n",
    "        visited.add(track_id)\n",
    "\n",
    "        # If track has no parent, return 0\n",
    "        if track_id not in parent_dict:\n",
    "            return 0\n",
    "\n",
    "        # Count ancestors of parent + 1 for the parent itself\n",
    "        return 1 + count_ancestors(parent_dict[track_id], visited)\n",
    "\n",
    "    # Count ancestors for each track\n",
    "    ancestor_counts = {\n",
    "        track_id: count_ancestors(track_id) for track_id in parent_dict.keys()\n",
    "    }\n",
    "\n",
    "    # Find track with maximum ancestor count\n",
    "    return max(ancestor_counts.items(), key=lambda x: x[1])[0]\n",
    "\n",
    "\n",
    "filtered_df = df[df[\"parent_track_id\"] != -1]\n",
    "graph = dict(zip(filtered_df[\"track_id\"], filtered_df[\"parent_track_id\"]))\n",
    "\n",
    "longest_track_id = find_longest_track(df)\n",
    "print(\"longest\", longest_track_id)\n",
    "\n",
    "most_ancestors_track_id = find_track_with_most_ancestors(graph)\n",
    "print(\"ancestors\", most_ancestors_track_id)  # 801"
   ]
  }
 ],
 "metadata": {
  "kernelspec": {
   "display_name": "Python 3 (ipykernel)",
   "language": "python",
   "name": "python3"
  },
  "language_info": {
   "codemirror_mode": {
    "name": "ipython",
    "version": 3
   },
   "file_extension": ".py",
   "mimetype": "text/x-python",
   "name": "python",
   "nbconvert_exporter": "python",
   "pygments_lexer": "ipython3",
   "version": "3.12.7"
  }
 },
 "nbformat": 4,
 "nbformat_minor": 5
}
