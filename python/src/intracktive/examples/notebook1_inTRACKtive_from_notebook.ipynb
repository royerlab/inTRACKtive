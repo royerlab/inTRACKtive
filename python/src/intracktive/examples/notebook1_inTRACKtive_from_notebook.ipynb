{
 "cells": [
  {
   "cell_type": "markdown",
   "metadata": {},
   "source": [
    "# This notebooks opens inTRACKtive directly from the notebook"
   ]
  },
  {
   "cell_type": "markdown",
   "metadata": {},
   "source": [
    "Dependencies"
   ]
  },
  {
   "cell_type": "code",
   "execution_count": 1,
   "metadata": {},
   "outputs": [],
   "source": [
    "import pandas as pd\n",
    "from pathlib import Path\n",
    "from intracktive.convert import dataframe_to_browser"
   ]
  },
  {
   "cell_type": "markdown",
   "metadata": {},
   "source": [
    "Load tracks data for C. elegans (or replace by your own data)"
   ]
  },
  {
   "cell_type": "code",
   "execution_count": null,
   "metadata": {},
   "outputs": [],
   "source": [
    "df = pd.read_csv(\"https://public.czbiohub.org/royerlab/zoo/C_elegans/tracks.csv\")\n",
    "df"
   ]
  },
  {
   "cell_type": "markdown",
   "metadata": {},
   "source": [
    "Open intracktive directly from the data"
   ]
  },
  {
   "cell_type": "code",
   "execution_count": null,
   "metadata": {},
   "outputs": [],
   "source": [
    "# Choose the location where the Zarr file will be stored, providing an empty path (Path()) means that the data will be stored in a temporary location\n",
    "zarr_dir = Path()\n",
    "# zarr_dir = '/path/on/your/computer/\n",
    "\n",
    "dataframe_to_browser(df, zarr_dir)"
   ]
  },
  {
   "cell_type": "markdown",
   "metadata": {},
   "source": [
    "The `dataframe_to_browser` function sequentially:\n",
    "1. converts pd.dataFrame to Zarr\n",
    "2. saves the Zarr in the specified location\n",
    "3. spins up a localhost at that location\n",
    "4. launches a browser window of inTRACKtive with as dataUrl the zarr in the localhost, all in a single click"
   ]
  }
 ],
 "metadata": {
  "kernelspec": {
   "display_name": "intracktive",
   "language": "python",
   "name": "python3"
  },
  "language_info": {
   "codemirror_mode": {
    "name": "ipython",
    "version": 3
   },
   "file_extension": ".py",
   "mimetype": "text/x-python",
   "name": "python",
   "nbconvert_exporter": "python",
   "pygments_lexer": "ipython3",
   "version": "3.12.7"
  }
 },
 "nbformat": 4,
 "nbformat_minor": 2
}
