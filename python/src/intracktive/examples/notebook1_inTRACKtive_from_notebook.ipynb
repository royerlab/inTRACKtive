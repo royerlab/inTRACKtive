{
 "cells": [
  {
   "cell_type": "markdown",
   "metadata": {},
   "source": [
    "# This notebooks opens inTRACKtive directly from the notebook"
   ]
  },
  {
   "cell_type": "markdown",
   "metadata": {},
   "source": [
    "Dependencies"
   ]
  },
  {
   "cell_type": "code",
   "execution_count": 1,
   "metadata": {},
   "outputs": [],
   "source": [
    "import pandas as pd\n",
    "from pathlib import Path\n",
    "from intracktive.convert import dataframe_to_browser"
   ]
  },
  {
   "cell_type": "markdown",
   "metadata": {},
   "source": [
    "Load tracks data for C. elegans (or replace by your own data)"
   ]
  },
  {
   "cell_type": "code",
   "execution_count": null,
   "metadata": {},
   "outputs": [],
   "source": [
    "df = pd.read_csv(\"https://public.czbiohub.org/royerlab/zoo/C_elegans/tracks.csv\")\n",
    "df"
   ]
  },
  {
   "cell_type": "markdown",
   "metadata": {},
   "source": [
    "Open intracktive directly from the data"
   ]
  },
  {
   "cell_type": "code",
   "execution_count": 3,
   "metadata": {},
   "outputs": [],
   "source": [
    "# Choose the location where the Zarr file will be stored, providing an empty path (Path()) means that the data will be stored in a temporary location\n",
    "zarr_dir = Path()\n",
    "# zarr_dir = '/path/on/your/computer/\n",
    "\n",
    "# dataframe_to_browser(df, zarr_dir)"
   ]
  },
  {
   "cell_type": "markdown",
   "metadata": {},
   "source": [
    "The `dataframe_to_browser` function sequentially:\n",
    "1. converts pd.dataFrame to Zarr\n",
    "2. saves the Zarr in the specified location\n",
    "3. spins up a localhost at that location\n",
    "4. launches a browser window of inTRACKtive with as dataUrl the zarr in the localhost, all in a single click"
   ]
  },
  {
   "cell_type": "markdown",
   "metadata": {},
   "source": [
    "---------------------------------------------------------------"
   ]
  },
  {
   "cell_type": "markdown",
   "metadata": {},
   "source": [
    "[OPTIONAL] add attributes to color the cells (takes ~20 sec to run)"
   ]
  },
  {
   "cell_type": "code",
   "execution_count": null,
   "metadata": {},
   "outputs": [],
   "source": [
    "# Add a new column 'lineage' to the dataframe (representing the lineage of each track)\n",
    "df2 = df.copy()\n",
    "df2.sort_values(by=[\"track_id\", \"t\"], inplace=True)\n",
    "df2[\"lineage\"] = -1\n",
    "df2.loc[df2[\"track_id\"] <= 1, \"lineage\"] = df2[\n",
    "    \"track_id\"\n",
    "]  # Set lineage for cells in first frame\n",
    "for idx, row in df2.iterrows():  # Loop through all rows and find lineage for each cell\n",
    "    if row[\"lineage\"] == -1:\n",
    "        parent_row = df2[df2[\"track_id\"] == row[\"parent_track_id\"]]\n",
    "        if not parent_row.empty:\n",
    "            df2.at[idx, \"lineage\"] = parent_row.iloc[0][\"lineage\"]\n",
    "\n",
    "\n",
    "# Open the data in inTRACKtive\n",
    "dataframe_to_browser(df2, zarr_dir, extra_cols=[\"lineage\"])"
   ]
  },
  {
   "cell_type": "code",
   "execution_count": null,
   "metadata": {},
   "outputs": [],
   "source": []
  }
 ],
 "metadata": {
  "kernelspec": {
   "display_name": "intracktive",
   "language": "python",
   "name": "python3"
  },
  "language_info": {
   "codemirror_mode": {
    "name": "ipython",
    "version": 3
   },
   "file_extension": ".py",
   "mimetype": "text/x-python",
   "name": "python",
   "nbconvert_exporter": "python",
   "pygments_lexer": "ipython3",
   "version": "3.12.7"
  }
 },
 "nbformat": 4,
 "nbformat_minor": 2
}
