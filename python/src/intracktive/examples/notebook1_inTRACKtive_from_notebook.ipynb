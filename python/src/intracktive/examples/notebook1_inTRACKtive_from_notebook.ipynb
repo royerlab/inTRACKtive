{
 "cells": [
  {
   "cell_type": "markdown",
   "metadata": {},
   "source": [
    "# This notebooks opens inTRACKtive directly from the notebook"
   ]
  },
  {
   "cell_type": "markdown",
   "metadata": {},
   "source": [
    "Dependencies"
   ]
  },
  {
   "cell_type": "code",
   "execution_count": 1,
   "metadata": {},
   "outputs": [],
   "source": [
    "import pandas as pd\n",
    "from pathlib import Path\n",
    "from intracktive.convert import dataframe_to_browser"
   ]
  },
  {
   "cell_type": "markdown",
   "metadata": {},
   "source": [
    "Load tracks data for C. elegans (or replace by your own data)"
   ]
  },
  {
   "cell_type": "code",
   "execution_count": 2,
   "metadata": {},
   "outputs": [
    {
     "data": {
      "text/html": [
       "<div>\n",
       "<style scoped>\n",
       "    .dataframe tbody tr th:only-of-type {\n",
       "        vertical-align: middle;\n",
       "    }\n",
       "\n",
       "    .dataframe tbody tr th {\n",
       "        vertical-align: top;\n",
       "    }\n",
       "\n",
       "    .dataframe thead th {\n",
       "        text-align: right;\n",
       "    }\n",
       "</style>\n",
       "<table border=\"1\" class=\"dataframe\">\n",
       "  <thead>\n",
       "    <tr style=\"text-align: right;\">\n",
       "      <th></th>\n",
       "      <th>track_id</th>\n",
       "      <th>t</th>\n",
       "      <th>z</th>\n",
       "      <th>y</th>\n",
       "      <th>x</th>\n",
       "      <th>parent_track_id</th>\n",
       "    </tr>\n",
       "  </thead>\n",
       "  <tbody>\n",
       "    <tr>\n",
       "      <th>0</th>\n",
       "      <td>0</td>\n",
       "      <td>0</td>\n",
       "      <td>122</td>\n",
       "      <td>112</td>\n",
       "      <td>333</td>\n",
       "      <td>-1</td>\n",
       "    </tr>\n",
       "    <tr>\n",
       "      <th>1</th>\n",
       "      <td>0</td>\n",
       "      <td>8</td>\n",
       "      <td>106</td>\n",
       "      <td>140</td>\n",
       "      <td>294</td>\n",
       "      <td>-1</td>\n",
       "    </tr>\n",
       "    <tr>\n",
       "      <th>2</th>\n",
       "      <td>0</td>\n",
       "      <td>1</td>\n",
       "      <td>118</td>\n",
       "      <td>115</td>\n",
       "      <td>333</td>\n",
       "      <td>-1</td>\n",
       "    </tr>\n",
       "    <tr>\n",
       "      <th>3</th>\n",
       "      <td>0</td>\n",
       "      <td>7</td>\n",
       "      <td>105</td>\n",
       "      <td>122</td>\n",
       "      <td>303</td>\n",
       "      <td>-1</td>\n",
       "    </tr>\n",
       "    <tr>\n",
       "      <th>4</th>\n",
       "      <td>0</td>\n",
       "      <td>2</td>\n",
       "      <td>119</td>\n",
       "      <td>116</td>\n",
       "      <td>331</td>\n",
       "      <td>-1</td>\n",
       "    </tr>\n",
       "    <tr>\n",
       "      <th>...</th>\n",
       "      <td>...</td>\n",
       "      <td>...</td>\n",
       "      <td>...</td>\n",
       "      <td>...</td>\n",
       "      <td>...</td>\n",
       "      <td>...</td>\n",
       "    </tr>\n",
       "    <tr>\n",
       "      <th>110894</th>\n",
       "      <td>1331</td>\n",
       "      <td>374</td>\n",
       "      <td>152</td>\n",
       "      <td>156</td>\n",
       "      <td>244</td>\n",
       "      <td>1000</td>\n",
       "    </tr>\n",
       "    <tr>\n",
       "      <th>110895</th>\n",
       "      <td>1331</td>\n",
       "      <td>378</td>\n",
       "      <td>147</td>\n",
       "      <td>160</td>\n",
       "      <td>233</td>\n",
       "      <td>1000</td>\n",
       "    </tr>\n",
       "    <tr>\n",
       "      <th>110896</th>\n",
       "      <td>1331</td>\n",
       "      <td>375</td>\n",
       "      <td>151</td>\n",
       "      <td>156</td>\n",
       "      <td>244</td>\n",
       "      <td>1000</td>\n",
       "    </tr>\n",
       "    <tr>\n",
       "      <th>110897</th>\n",
       "      <td>1331</td>\n",
       "      <td>377</td>\n",
       "      <td>148</td>\n",
       "      <td>159</td>\n",
       "      <td>235</td>\n",
       "      <td>1000</td>\n",
       "    </tr>\n",
       "    <tr>\n",
       "      <th>110898</th>\n",
       "      <td>1331</td>\n",
       "      <td>373</td>\n",
       "      <td>153</td>\n",
       "      <td>156</td>\n",
       "      <td>245</td>\n",
       "      <td>1000</td>\n",
       "    </tr>\n",
       "  </tbody>\n",
       "</table>\n",
       "<p>110899 rows × 6 columns</p>\n",
       "</div>"
      ],
      "text/plain": [
       "        track_id    t    z    y    x  parent_track_id\n",
       "0              0    0  122  112  333               -1\n",
       "1              0    8  106  140  294               -1\n",
       "2              0    1  118  115  333               -1\n",
       "3              0    7  105  122  303               -1\n",
       "4              0    2  119  116  331               -1\n",
       "...          ...  ...  ...  ...  ...              ...\n",
       "110894      1331  374  152  156  244             1000\n",
       "110895      1331  378  147  160  233             1000\n",
       "110896      1331  375  151  156  244             1000\n",
       "110897      1331  377  148  159  235             1000\n",
       "110898      1331  373  153  156  245             1000\n",
       "\n",
       "[110899 rows x 6 columns]"
      ]
     },
     "execution_count": 2,
     "metadata": {},
     "output_type": "execute_result"
    }
   ],
   "source": [
    "df = pd.read_csv(\"https://public.czbiohub.org/royerlab/zoo/C_elegans/tracks.csv\")\n",
    "df"
   ]
  },
  {
   "cell_type": "markdown",
   "metadata": {},
   "source": [
    "Open intracktive directly from the data"
   ]
  },
  {
   "cell_type": "code",
   "execution_count": 3,
   "metadata": {},
   "outputs": [],
   "source": [
    "# Choose the location where the Zarr file will be stored, providing an empty path (Path()) means that the data will be stored in a temporary location\n",
    "zarr_dir = Path()\n",
    "# zarr_dir = '/path/on/your/computer/\n",
    "\n",
    "# dataframe_to_browser(df, zarr_dir)"
   ]
  },
  {
   "cell_type": "markdown",
   "metadata": {},
   "source": [
    "The `dataframe_to_browser` function sequentially:\n",
    "1. converts pd.dataFrame to Zarr\n",
    "2. saves the Zarr in the specified location\n",
    "3. spins up a localhost at that location\n",
    "4. launches a browser window of inTRACKtive with as dataUrl the zarr in the localhost, all in a single click"
   ]
  },
  {
   "cell_type": "markdown",
   "metadata": {},
   "source": [
    "[OPTIONAL] add attributes to color the cells"
   ]
  },
  {
   "cell_type": "markdown",
   "metadata": {},
   "source": [
    "Takes 20 sec:"
   ]
  },
  {
   "cell_type": "code",
   "execution_count": 8,
   "metadata": {},
   "outputs": [
    {
     "data": {
      "text/html": [
       "<div>\n",
       "<style scoped>\n",
       "    .dataframe tbody tr th:only-of-type {\n",
       "        vertical-align: middle;\n",
       "    }\n",
       "\n",
       "    .dataframe tbody tr th {\n",
       "        vertical-align: top;\n",
       "    }\n",
       "\n",
       "    .dataframe thead th {\n",
       "        text-align: right;\n",
       "    }\n",
       "</style>\n",
       "<table border=\"1\" class=\"dataframe\">\n",
       "  <thead>\n",
       "    <tr style=\"text-align: right;\">\n",
       "      <th></th>\n",
       "      <th>track_id</th>\n",
       "      <th>t</th>\n",
       "      <th>z</th>\n",
       "      <th>y</th>\n",
       "      <th>x</th>\n",
       "      <th>parent_track_id</th>\n",
       "    </tr>\n",
       "  </thead>\n",
       "  <tbody>\n",
       "    <tr>\n",
       "      <th>0</th>\n",
       "      <td>0</td>\n",
       "      <td>0</td>\n",
       "      <td>122</td>\n",
       "      <td>112</td>\n",
       "      <td>333</td>\n",
       "      <td>-1</td>\n",
       "    </tr>\n",
       "    <tr>\n",
       "      <th>1</th>\n",
       "      <td>0</td>\n",
       "      <td>8</td>\n",
       "      <td>106</td>\n",
       "      <td>140</td>\n",
       "      <td>294</td>\n",
       "      <td>-1</td>\n",
       "    </tr>\n",
       "    <tr>\n",
       "      <th>2</th>\n",
       "      <td>0</td>\n",
       "      <td>1</td>\n",
       "      <td>118</td>\n",
       "      <td>115</td>\n",
       "      <td>333</td>\n",
       "      <td>-1</td>\n",
       "    </tr>\n",
       "    <tr>\n",
       "      <th>3</th>\n",
       "      <td>0</td>\n",
       "      <td>7</td>\n",
       "      <td>105</td>\n",
       "      <td>122</td>\n",
       "      <td>303</td>\n",
       "      <td>-1</td>\n",
       "    </tr>\n",
       "    <tr>\n",
       "      <th>4</th>\n",
       "      <td>0</td>\n",
       "      <td>2</td>\n",
       "      <td>119</td>\n",
       "      <td>116</td>\n",
       "      <td>331</td>\n",
       "      <td>-1</td>\n",
       "    </tr>\n",
       "    <tr>\n",
       "      <th>...</th>\n",
       "      <td>...</td>\n",
       "      <td>...</td>\n",
       "      <td>...</td>\n",
       "      <td>...</td>\n",
       "      <td>...</td>\n",
       "      <td>...</td>\n",
       "    </tr>\n",
       "    <tr>\n",
       "      <th>110894</th>\n",
       "      <td>1331</td>\n",
       "      <td>374</td>\n",
       "      <td>152</td>\n",
       "      <td>156</td>\n",
       "      <td>244</td>\n",
       "      <td>1000</td>\n",
       "    </tr>\n",
       "    <tr>\n",
       "      <th>110895</th>\n",
       "      <td>1331</td>\n",
       "      <td>378</td>\n",
       "      <td>147</td>\n",
       "      <td>160</td>\n",
       "      <td>233</td>\n",
       "      <td>1000</td>\n",
       "    </tr>\n",
       "    <tr>\n",
       "      <th>110896</th>\n",
       "      <td>1331</td>\n",
       "      <td>375</td>\n",
       "      <td>151</td>\n",
       "      <td>156</td>\n",
       "      <td>244</td>\n",
       "      <td>1000</td>\n",
       "    </tr>\n",
       "    <tr>\n",
       "      <th>110897</th>\n",
       "      <td>1331</td>\n",
       "      <td>377</td>\n",
       "      <td>148</td>\n",
       "      <td>159</td>\n",
       "      <td>235</td>\n",
       "      <td>1000</td>\n",
       "    </tr>\n",
       "    <tr>\n",
       "      <th>110898</th>\n",
       "      <td>1331</td>\n",
       "      <td>373</td>\n",
       "      <td>153</td>\n",
       "      <td>156</td>\n",
       "      <td>245</td>\n",
       "      <td>1000</td>\n",
       "    </tr>\n",
       "  </tbody>\n",
       "</table>\n",
       "<p>110899 rows × 6 columns</p>\n",
       "</div>"
      ],
      "text/plain": [
       "        track_id    t    z    y    x  parent_track_id\n",
       "0              0    0  122  112  333               -1\n",
       "1              0    8  106  140  294               -1\n",
       "2              0    1  118  115  333               -1\n",
       "3              0    7  105  122  303               -1\n",
       "4              0    2  119  116  331               -1\n",
       "...          ...  ...  ...  ...  ...              ...\n",
       "110894      1331  374  152  156  244             1000\n",
       "110895      1331  378  147  160  233             1000\n",
       "110896      1331  375  151  156  244             1000\n",
       "110897      1331  377  148  159  235             1000\n",
       "110898      1331  373  153  156  245             1000\n",
       "\n",
       "[110899 rows x 6 columns]"
      ]
     },
     "execution_count": 8,
     "metadata": {},
     "output_type": "execute_result"
    }
   ],
   "source": [
    "df"
   ]
  },
  {
   "cell_type": "code",
   "execution_count": 19,
   "metadata": {},
   "outputs": [],
   "source": [
    "# df2 = df.copy()\n",
    "# df2['label'] = -1\n",
    "# df2\n",
    "\n",
    "# # Step 1: Update 'label' for rows where 't' == 0\n",
    "# df2.loc[df2['track_id'] <= 1, 'label'] = df2['track_id']\n",
    "\n",
    "# # Step 2: Update 'label' for rows where 'label' == 0 based on 'parent_track_id'\n",
    "# for idx, row in df2.iterrows():\n",
    "#     if row['label'] == -1:\n",
    "#         # Find the row where 'track_id' matches 'parent_track_id'\n",
    "#         parent_row = df2[df2['track_id'] == row['parent_track_id']]\n",
    "#         if not parent_row.empty:\n",
    "#             df2.at[idx, 'label'] = parent_row.iloc[0]['label']\n"
   ]
  },
  {
   "cell_type": "code",
   "execution_count": 20,
   "metadata": {},
   "outputs": [
    {
     "data": {
      "text/plain": [
       "<Axes: >"
      ]
     },
     "execution_count": 20,
     "metadata": {},
     "output_type": "execute_result"
    },
    {
     "data": {
      "image/png": "[encoded data removed]",
      "text/plain": [
       "<Figure size 640x480 with 1 Axes>"
      ]
     },
     "metadata": {},
     "output_type": "display_data"
    }
   ],
   "source": [
    "df2.label.hist()"
   ]
  },
  {
   "cell_type": "code",
   "execution_count": null,
   "metadata": {},
   "outputs": [],
   "source": [
    "# Sample DataFrame\n",
    "df2 = df.copy()\n",
    "df2['label'] = -1  # Initialize all labels as -1\n",
    "\n",
    "# Step 1: Assign labels for rows where `t == 0`\n",
    "df2.loc[df2['t'] == 0, 'label'] = df2.loc[df2['t'] == 0, 'track_id']\n",
    "\n",
    "# Step 2: Iteratively propagate labels\n",
    "while df2['label'].min() == -1:  # Continue until all labels are assigned\n",
    "    # Merge to propagate labels from parent to children\n",
    "    df2 = df2.merge(\n",
    "        df2[['track_id', 'label']].rename(columns={'track_id': 'parent_track_id', 'label': 'parent_label'}),\n",
    "        how='left',\n",
    "        on='parent_track_id'\n",
    "    )\n",
    "    # Update labels where not yet assigned\n",
    "    df2['label'] = df2['label'].where(df2['label'] != -1, df2['parent_label'])\n",
    "    # Drop the temporary column used for merging\n",
    "    df2.drop(columns=['parent_label'], inplace=True)\n"
   ]
  },
  {
   "cell_type": "code",
   "execution_count": 7,
   "metadata": {},
   "outputs": [
    {
     "ename": "TypeError",
     "evalue": "dataframe_to_browser() got an unexpected keyword argument 'extra_cols'",
     "output_type": "error",
     "traceback": [
      "\u001b[0;31m---------------------------------------------------------------------------\u001b[0m",
      "\u001b[0;31mTypeError\u001b[0m                                 Traceback (most recent call last)",
      "Cell \u001b[0;32mIn[7], line 1\u001b[0m\n\u001b[0;32m----> 1\u001b[0m \u001b[43mdataframe_to_browser\u001b[49m\u001b[43m(\u001b[49m\u001b[43mdf2\u001b[49m\u001b[43m,\u001b[49m\u001b[43m \u001b[49m\u001b[43mzarr_dir\u001b[49m\u001b[43m,\u001b[49m\u001b[43m \u001b[49m\u001b[43mextra_cols\u001b[49m\u001b[43m \u001b[49m\u001b[38;5;241;43m=\u001b[39;49m\u001b[43m \u001b[49m\u001b[43m[\u001b[49m\u001b[38;5;124;43m'\u001b[39;49m\u001b[38;5;124;43mlabel\u001b[39;49m\u001b[38;5;124;43m'\u001b[39;49m\u001b[43m]\u001b[49m\u001b[43m)\u001b[49m\n",
      "\u001b[0;31mTypeError\u001b[0m: dataframe_to_browser() got an unexpected keyword argument 'extra_cols'"
     ]
    }
   ],
   "source": [
    "dataframe_to_browser(df2, zarr_dir, extra_cols = ['label'])"
   ]
  },
  {
   "cell_type": "code",
   "execution_count": null,
   "metadata": {},
   "outputs": [],
   "source": []
  }
 ],
 "metadata": {
  "kernelspec": {
   "display_name": "intracktive",
   "language": "python",
   "name": "python3"
  },
  "language_info": {
   "codemirror_mode": {
    "name": "ipython",
    "version": 3
   },
   "file_extension": ".py",
   "mimetype": "text/x-python",
   "name": "python",
   "nbconvert_exporter": "python",
   "pygments_lexer": "ipython3",
   "version": "3.12.7"
  }
 },
 "nbformat": 4,
 "nbformat_minor": 2
}
