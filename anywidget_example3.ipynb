{
 "cells": [
  {
   "cell_type": "markdown",
   "id": "217c2911-87bc-4e7c-8198-1a8d252904e9",
   "metadata": {},
   "source": [
    "# Dependencies"
   ]
  },
  {
   "cell_type": "code",
   "execution_count": null,
   "id": "f06c4f19-d756-44f1-8559-9f5e79f68081",
   "metadata": {},
   "outputs": [],
   "source": [
    "import traitlets\n",
    "import anywidget\n",
    "import pandas as pd\n",
    "\n",
    "from pathlib import Path\n",
    "\n",
    "class Widget(anywidget.AnyWidget):\n",
    "    get_selected_tracks = traitlets.List().tag(sync=True)\n",
    "    dataset_url = traitlets.Unicode(\"https://public.czbiohub.org/royerlab/zoo/Zebrafish/tracks_zebrafish_bundle.zarr/\").tag(sync=True)\n",
    "    selected_cells = traitlets.List().tag(sync=True)\n",
    "\n",
    "    def select_tracks(self, cell_ids):\n",
    "        self.selected_cells = cell_ids\n",
    "        \n",
    "    _esm = \"static/widget.js\"\n",
    "    _css = \"static/widget.css\""
   ]
  },
  {
   "cell_type": "markdown",
   "id": "0d23d870-b89b-4b3a-a228-3c52646a6469",
   "metadata": {},
   "source": [
    "# Open inTRACKtive within notebook"
   ]
  },
  {
   "cell_type": "code",
   "execution_count": null,
   "id": "127be4fb-3e81-4583-aa1a-0a5d205129fb",
   "metadata": {},
   "outputs": [],
   "source": [
    "widget = Widget(dataset_url = \"https://public.czbiohub.org/royerlab/zoo/Drosophila/tracks_drosophila_attributes_bundle.zarr/\")\n",
    "widget"
   ]
  },
  {
   "cell_type": "markdown",
   "id": "027ee6c9-e3b5-47d2-a3f8-aa965b8eb3c8",
   "metadata": {},
   "source": [
    "# Get selected tracks:"
   ]
  },
  {
   "cell_type": "code",
   "execution_count": null,
   "id": "0d6b86bf-cd77-4f8d-8fd2-ce6040f00f62",
   "metadata": {
    "scrolled": true
   },
   "outputs": [],
   "source": [
    "widget.get_selected_tracks"
   ]
  },
  {
   "cell_type": "markdown",
   "id": "f835b20c-91d3-4e2f-9601-fb9066bf2d59",
   "metadata": {},
   "source": [
    "# Select tracks from python"
   ]
  },
  {
   "cell_type": "code",
   "execution_count": null,
   "id": "9db1b2a0-f304-429a-9e5e-db7685912e10",
   "metadata": {},
   "outputs": [],
   "source": [
    "widget.select_tracks([755])"
   ]
  },
  {
   "cell_type": "code",
   "execution_count": null,
   "id": "8a3c41ff-1add-4e1a-aace-080b0416c33b",
   "metadata": {},
   "outputs": [],
   "source": []
  }
 ],
 "metadata": {
  "kernelspec": {
   "display_name": "Python 3 (ipykernel)",
   "language": "python",
   "name": "python3"
  },
  "language_info": {
   "codemirror_mode": {
    "name": "ipython",
    "version": 3
   },
   "file_extension": ".py",
   "mimetype": "text/x-python",
   "name": "python",
   "nbconvert_exporter": "python",
   "pygments_lexer": "ipython3",
   "version": "3.12.7"
  }
 },
 "nbformat": 4,
 "nbformat_minor": 5
}
